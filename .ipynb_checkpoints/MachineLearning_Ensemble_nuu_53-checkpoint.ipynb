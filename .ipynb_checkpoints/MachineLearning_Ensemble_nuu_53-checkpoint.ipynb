{
 "cells": [
  {
   "cell_type": "markdown",
   "metadata": {},
   "source": [
    "### Imports\n",
    "Ушбу лойиҳада биз машинали ўқитиш бўйича стандарт кутубхоналардан фойдаланамиз."
   ]
  },
  {
   "cell_type": "code",
   "execution_count": null,
   "metadata": {},
   "outputs": [],
   "source": []
  },
  {
   "cell_type": "code",
   "execution_count": 53,
   "metadata": {},
   "outputs": [],
   "source": [
    "# Pandas and numpy for data manipulation\n",
    "import pandas as pd\n",
    "import numpy as np\n",
    "\n",
    "# No warnings about setting value on copy of slice\n",
    "pd.options.mode.chained_assignment = None\n",
    "pd.set_option('display.max_columns', 60)\n",
    "\n",
    "# Matplotlib for visualization\n",
    "import matplotlib.pyplot as plt\n",
    "%matplotlib inline\n",
    "\n",
    "# Set default font size\n",
    "plt.rcParams['font.size'] = 24\n",
    "\n",
    "from IPython.core.pylabtools import figsize\n",
    "\n",
    "# Seaborn for visualization\n",
    "import seaborn as sns\n",
    "sns.set(font_scale = 2)\n",
    "\n",
    "# Imputing missing values and scaling values\n",
    "from sklearn.preprocessing import MinMaxScaler\n",
    "from sklearn.model_selection import cross_validate, cross_val_predict\n",
    "# Machine Learning Models\n",
    "\n",
    "\n",
    "#import sklearn dependencies\n",
    "from sklearn.linear_model import LinearRegression\n",
    "from sklearn.linear_model import Ridge\n",
    "from sklearn.linear_model import Lasso\n",
    "from sklearn.linear_model import ElasticNet\n",
    "from sklearn.linear_model import Lars\n",
    "from sklearn.linear_model import LassoLars\n",
    "from sklearn.linear_model import OrthogonalMatchingPursuit\n",
    "from sklearn.linear_model import BayesianRidge\n",
    "from sklearn.linear_model import ARDRegression\n",
    "from sklearn.linear_model import PassiveAggressiveRegressor\n",
    "from sklearn.linear_model import RANSACRegressor\n",
    "from sklearn.linear_model import TheilSenRegressor\n",
    "from sklearn.linear_model import HuberRegressor\n",
    "from sklearn.kernel_ridge import KernelRidge\n",
    "from sklearn.svm import SVR\n",
    "from sklearn.neighbors import KNeighborsRegressor\n",
    "from sklearn.tree import DecisionTreeRegressor\n",
    "from sklearn.ensemble import RandomForestRegressor\n",
    "from sklearn.ensemble import ExtraTreesRegressor\n",
    "from sklearn.ensemble import AdaBoostRegressor\n",
    "from sklearn.ensemble import BaggingRegressor\n",
    "from sklearn.ensemble import GradientBoostingRegressor\n",
    "from sklearn.neural_network import MLPRegressor\n",
    "from xgboost import XGBRegressor\n",
    "from catboost import CatBoostRegressor\n",
    "import lightgbm as lgb\n",
    "    \n",
    "# Hyperparameter tuning\n",
    "from sklearn.model_selection import RandomizedSearchCV, GridSearchCV\n",
    "\n",
    "import warnings\n",
    "warnings.filterwarnings('ignore')    "
   ]
  },
  {
   "cell_type": "markdown",
   "metadata": {},
   "source": [
    "### Маълумотларни ўқитиш.\n",
    "Дастлаб аввалги дафтарнинг форматланган маълумотларини ўқиб чиқамиз."
   ]
  },
  {
   "cell_type": "code",
   "execution_count": 139,
   "metadata": {},
   "outputs": [
    {
     "name": "stdout",
     "output_type": "stream",
     "text": [
      "Feature Size:  (150, 2076)\n",
      "Labels Size:   (150, 1)\n"
     ]
    }
   ],
   "source": [
    "# Read in data into dataframes \n",
    "path = 'Datasets/4_Rasulov_150/'\n",
    "features = pd.read_excel(path + 'output.xlsx')\n",
    "labels = pd.read_csv(path + 'act_150.txt')\n",
    "\n",
    "# Display sizes of data\n",
    "print('Feature Size: ', features.shape)\n",
    "print('Labels Size:  ', labels.shape)\n"
   ]
  },
  {
   "cell_type": "code",
   "execution_count": 140,
   "metadata": {},
   "outputs": [
    {
     "data": {
      "text/plain": [
       "<AxesSubplot:xlabel='Синиш кўрсатгичи', ylabel='Density'>"
      ]
     },
     "execution_count": 140,
     "metadata": {},
     "output_type": "execute_result"
    },
    {
     "data": {
      "image/png": "[encoded data removed]",
      "text/plain": [
       "<Figure size 432x288 with 1 Axes>"
      ]
     },
     "metadata": {},
     "output_type": "display_data"
    }
   ],
   "source": [
    "y = np.log10(labels)\n",
    "sns.distplot(y, axlabel = 'Синиш кўрсатгичи')\n"
   ]
  },
  {
   "cell_type": "code",
   "execution_count": 141,
   "metadata": {},
   "outputs": [],
   "source": [
    "# Create the scaler object with a range of 0-1\n",
    "scaler = MinMaxScaler(feature_range=(0, 1))\n",
    "\n",
    "# Fit on the training data\n",
    "scaler.fit(features)\n",
    "\n",
    "# Transform both the training and testing data\n",
    "X_new = scaler.transform(features)\n",
    "y_train = np.array(y).reshape((-1, ))"
   ]
  },
  {
   "cell_type": "markdown",
   "metadata": {},
   "source": [
    "Эслатиб ўтамиз, бу ерда форматланган маълумотлар қандай кўринишга эга. Биринчи дафтарда биз ўзгарувчиларнинг табиий журналини олиш орқали бир қатор хусусиятларни ишлаб чиқдик, юқори даражадаги чизиқли хусусиятларни олиб ташлаш орқали дескрипторларни бир қисмини танладик."
   ]
  },
  {
   "cell_type": "code",
   "execution_count": 142,
   "metadata": {},
   "outputs": [],
   "source": [
    "def remove_collinear_features(x, threshold):\n",
    "    '''\n",
    "    Objective:\n",
    "        Remove collinear features in a dataframe with a correlation coefficient\n",
    "        greater than the threshold. Removing collinear features can help a model\n",
    "        to generalize and improves the interpretability of the model.\n",
    "        \n",
    "    Inputs: \n",
    "        threshold: any features with correlations greater than this value are removed\n",
    "    \n",
    "    Output: \n",
    "        dataframe that contains only the non-highly-collinear features\n",
    "    '''\n",
    "            \n",
    "    # Calculate the correlation matrix\n",
    "    corr_matrix = x.corr()\n",
    "    iters = range(len(corr_matrix.columns) - 1)    \n",
    "    drop_cols = []\n",
    "\n",
    "    # Iterate through the correlation matrix and compare correlations\n",
    "    for i in iters:\n",
    "        for j in range(i):\n",
    "            item = corr_matrix.iloc[j:(j+1), (i+1):(i+2)]\n",
    "            col = item.columns\n",
    "            row = item.index\n",
    "            val = abs(item.values)             \n",
    "            # If correlation exceeds the threshold\n",
    "            if val >= threshold:\n",
    "                drop_cols.append(col.values[0])\n",
    "\n",
    "    # Drop one of each pair of correlated columns\n",
    "    drops = set(drop_cols)\n",
    "    x = x.drop(columns = drops) \n",
    "               \n",
    "    return x"
   ]
  },
  {
   "cell_type": "code",
   "execution_count": 143,
   "metadata": {},
   "outputs": [],
   "source": [
    "X_train = remove_collinear_features(features, 0.9)"
   ]
  },
  {
   "cell_type": "code",
   "execution_count": 144,
   "metadata": {},
   "outputs": [
    {
     "name": "stdout",
     "output_type": "stream",
     "text": [
      "(150, 474)\n",
      "(150, 1)\n"
     ]
    }
   ],
   "source": [
    "\n",
    "print(X_train.shape)\n",
    "print(y.shape)\n"
   ]
  },
  {
   "cell_type": "markdown",
   "metadata": {},
   "source": [
    "Қуйида активликни тақсимланиш кўрсатилган."
   ]
  },
  {
   "cell_type": "code",
   "execution_count": 145,
   "metadata": {},
   "outputs": [],
   "source": [
    "from rfpimp import *\n",
    "from rfpimp import *\n",
    "import pandas as pd\n",
    "from sklearn.ensemble import RandomForestRegressor\n",
    "from sklearn.model_selection import train_test_split\n",
    "\n",
    "\n",
    "X_train1, X_test1, y_train1, y_test1 = train_test_split(X_train,y_train, test_size=0.20)\n",
    "rf = RandomForestRegressor(n_estimators=100, n_jobs=-1)\n",
    "rf.fit(X_train1, y_train1)\n",
    "\n",
    "imp = importances(rf, X_test1, y_test1) # permutation\n",
    "\n",
    "#viz = plot_importances(imp)\n",
    "#viz.view()"
   ]
  },
  {
   "cell_type": "code",
   "execution_count": 146,
   "metadata": {},
   "outputs": [],
   "source": [
    "column = imp.Importance.iloc[1:10].index\n",
    "X_train_feature = X_train.get(column)"
   ]
  },
  {
   "cell_type": "code",
   "execution_count": 147,
   "metadata": {},
   "outputs": [],
   "source": [
    "def models(x,y):\n",
    "    #creating model object\n",
    "    seed = 2; n_jobs_param = -1;\n",
    "    lr = LinearRegression(n_jobs=n_jobs_param)\n",
    "    lasso = Lasso(random_state=seed)\n",
    "    ridge = Ridge(random_state=seed)\n",
    "    en = ElasticNet(random_state=seed)\n",
    "    lar = Lars()\n",
    "    llar = LassoLars()\n",
    "    omp = OrthogonalMatchingPursuit()\n",
    "    br = BayesianRidge()\n",
    "    ard = ARDRegression()\n",
    "    par = PassiveAggressiveRegressor(random_state=seed)\n",
    "    ransac = RANSACRegressor(min_samples=0.5, random_state=seed)\n",
    "    tr = TheilSenRegressor(random_state=seed, n_jobs=n_jobs_param)\n",
    "    huber = HuberRegressor()   \n",
    "    kr = KernelRidge()\n",
    "    svm = SVR()\n",
    "    knn = KNeighborsRegressor(n_jobs=n_jobs_param)\n",
    "    dt = DecisionTreeRegressor(random_state=seed)\n",
    "    rf = RandomForestRegressor(random_state=seed, n_jobs=n_jobs_param)\n",
    "    et = ExtraTreesRegressor(random_state=seed, n_jobs=n_jobs_param)\n",
    "    ada = AdaBoostRegressor(random_state=seed)\n",
    "    gbr = GradientBoostingRegressor(random_state=seed)\n",
    "    mlp = MLPRegressor(random_state=seed)\n",
    "    #xgboost = XGBRegressor(random_state=seed, n_jobs=n_jobs_param, verbosity=0)\n",
    "    #lightgbm = lgb.LGBMRegressor(random_state=seed, n_jobs=n_jobs_param)\n",
    "    #catboost = CatBoostRegressor(random_state=seed, silent = True, thread_count=n_jobs_param)\n",
    "    \n",
    "    estimators = {#'Linear Regression' : lr,\n",
    "              'Lasso Regression' : lasso, \n",
    "              'Ridge Regression' : ridge, \n",
    "              'Elastic Net' : en,\n",
    "              ##'Least Angle Regression' : lar, \n",
    "              'Lasso Least Angle Regression' : llar, \n",
    "              'Orthogonal Matching Pursuit' : omp, \n",
    "              'Bayesian Ridge' : br, \n",
    "              'Automatic Relevance Determination' : ard,\n",
    "              'Passive Aggressive Regressor' : par, \n",
    "              ##'Random Sample Consensus' : ransac,\n",
    "              'TheilSen Regressor' : tr, \n",
    "              'Huber Regressor' : huber, \n",
    "              'Kernel Ridge' : kr,\n",
    "              'Support Vector Machine' : svm, \n",
    "              'K Neighbors Regressor' : knn, \n",
    "              'Decision Tree' : dt, \n",
    "              'Random Forest' : rf, \n",
    "              'Extra Trees Regressor' : et,\n",
    "              'AdaBoost Regressor' : ada,\n",
    "              'Gradient Boosting Regressor' : gbr, \n",
    "              'Multi Level Perceptron' : mlp\n",
    "              ##'Extreme Gradient Boosting' : xgboost,\n",
    "              ##'Light Gradient Boosting Machine' :  lightgbm,\n",
    "              ##'CatBoost Regressor' : catboost\n",
    "             }\n",
    "    result =pd.DataFrame()\n",
    "    for name, estimator in estimators.items():    \n",
    "        bgg_model = BaggingRegressor(estimator, random_state=seed).fit(X_new, y)\n",
    "        ada_model = AdaBoostRegressor(estimator, random_state=seed).fit(X_new, y)\n",
    "        \n",
    "        i =0\n",
    "        for model in [estimator,bgg_model,ada_model]:\n",
    "            i=i+1\n",
    "            score = cross_validate(model, x, y,\n",
    "                                   scoring=['neg_root_mean_squared_error'],\n",
    "                                   n_jobs=-1, verbose=0)\n",
    "            if i==1:\n",
    "                data = {'model':[name], 'RMSE':[-np.mean(score['test_neg_root_mean_squared_error'])],}                \n",
    "            if i==2:\n",
    "                data = {'model':['BG-'+name], 'RMSE':[-np.mean(score['test_neg_root_mean_squared_error'])],}                \n",
    "            if i==3:\n",
    "                data = {'model':['AR-'+name], 'RMSE':[-np.mean(score['test_neg_root_mean_squared_error'])],}                \n",
    "        \n",
    "            result = pd.concat([result,pd.DataFrame(data)],axis=0,ignore_index=True)           \n",
    "    \n",
    "    return result\n"
   ]
  },
  {
   "cell_type": "code",
   "execution_count": 148,
   "metadata": {},
   "outputs": [],
   "source": [
    "results = pd.DataFrame()\n",
    "for train in [[X_train,y_train],[X_train_feature,y_train]]:\n",
    "    result = models(x=train[0],y=train[1])\n",
    "    results_sing = result.sort_values('RMSE', ascending = True)\n",
    "    result['sort']=0\n",
    "    result['sort'].iloc[results_sing.index.values] = list(range(len(result.index)))\n",
    "    results = pd.concat([results,result],axis=1)"
   ]
  },
  {
   "cell_type": "code",
   "execution_count": 149,
   "metadata": {},
   "outputs": [],
   "source": [
    "results.to_excel(path+'result_150.xlsx', index = True) "
   ]
  },
  {
   "cell_type": "code",
   "execution_count": null,
   "metadata": {},
   "outputs": [],
   "source": []
  }
 ],
 "metadata": {
  "kernelspec": {
   "display_name": "Python 3",
   "language": "python",
   "name": "python3"
  },
  "language_info": {
   "codemirror_mode": {
    "name": "ipython",
    "version": 3
   },
   "file_extension": ".py",
   "mimetype": "text/x-python",
   "name": "python",
   "nbconvert_exporter": "python",
   "pygments_lexer": "ipython3",
   "version": "3.8.3"
  }
 },
 "nbformat": 4,
 "nbformat_minor": 4
}
